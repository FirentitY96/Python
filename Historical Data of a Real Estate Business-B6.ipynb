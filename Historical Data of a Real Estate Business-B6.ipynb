{
 "cells": [
  {
   "cell_type": "code",
   "execution_count": 1,
   "metadata": {},
   "outputs": [],
   "source": [
    "import pandas as pd\n",
    "from sklearn.linear_model import LinearRegression\n",
    "from sklearn.metrics import r2_score\n",
    "from sklearn.model_selection import train_test_split"
   ]
  },
  {
   "cell_type": "code",
   "execution_count": 2,
   "metadata": {},
   "outputs": [
    {
     "name": "stdout",
     "output_type": "stream",
     "text": [
      "5\n",
      "234314.144 643.09 2015\n",
      "228581.528 656.22 2009\n",
      "281626.336 487.29 2018\n",
      "401255.608 1504.75 2015\n",
      "458674.256 1275.46 2009\n"
     ]
    }
   ],
   "source": [
    "n=int(input())\n",
    "prize=[]\n",
    "size=[]\n",
    "year=[]\n",
    "for i in range(0,n):\n",
    "    line=input()\n",
    "    prize.append(float(line.split(' ')[0]))\n",
    "    size.append(float(line.split(' ')[1]))\n",
    "    year.append(int(line.split(' ')[2]))\n",
    "price1 = pd.Series(prize)\n",
    "size1 = pd.Series(size)\n",
    "year1 = pd.Series(year)"
   ]
  },
  {
   "cell_type": "code",
   "execution_count": 3,
   "metadata": {},
   "outputs": [],
   "source": [
    "df=pd.DataFrame()\n",
    "df['Size']=size1\n",
    "df['Year']=year1\n",
    "df['Price']=price1\n",
    "X=df[['Size','Year']]\n",
    "Y=df['Price']"
   ]
  },
  {
   "cell_type": "code",
   "execution_count": 4,
   "metadata": {},
   "outputs": [],
   "source": [
    "lm=LinearRegression()\n",
    "model=lm.fit(X,Y)\n",
    "ypred=model.predict(X)"
   ]
  },
  {
   "cell_type": "code",
   "execution_count": 5,
   "metadata": {},
   "outputs": [
    {
     "name": "stdout",
     "output_type": "stream",
     "text": [
      "0.75\n"
     ]
    }
   ],
   "source": [
    "r2=r2_score(Y,ypred)\n",
    "print('{0:0.2f}'.format(r2))"
   ]
  },
  {
   "cell_type": "code",
   "execution_count": null,
   "metadata": {},
   "outputs": [],
   "source": []
  }
 ],
 "metadata": {
  "kernelspec": {
   "display_name": "Python 3",
   "language": "python",
   "name": "python3"
  },
  "language_info": {
   "codemirror_mode": {
    "name": "ipython",
    "version": 3
   },
   "file_extension": ".py",
   "mimetype": "text/x-python",
   "name": "python",
   "nbconvert_exporter": "python",
   "pygments_lexer": "ipython3",
   "version": "3.7.1"
  }
 },
 "nbformat": 4,
 "nbformat_minor": 2
}
