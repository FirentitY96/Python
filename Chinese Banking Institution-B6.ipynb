{
 "cells": [
  {
   "cell_type": "code",
   "execution_count": 1,
   "metadata": {},
   "outputs": [],
   "source": [
    "import numpy as np\n",
    "import pandas as pd"
   ]
  },
  {
   "cell_type": "code",
   "execution_count": 12,
   "metadata": {},
   "outputs": [
    {
     "name": "stdout",
     "output_type": "stream",
     "text": [
      "5 HighT_Card 52\n",
      "2 Buzz_Card 150\n",
      "5 Premium_Card 122\n",
      "3 MovBuzz_Card 142\n",
      "60 35\n",
      "180 42\n",
      "152 37\n",
      "165 45\n",
      "2\n",
      "Buzz_Card\n"
     ]
    }
   ],
   "source": [
    "number = 8\n",
    "\n",
    "list1 = []\n",
    "\n",
    "while (number>0):\n",
    "    \n",
    "    input1 = input()\n",
    "        \n",
    "    list1.append(input1.rstrip().split(\" \"))\n",
    "    \n",
    "    number = number - 1\n",
    "    \n",
    "norm_fact = int(input())\n",
    "\n",
    "df1 = pd.DataFrame(list1[0:4])\n",
    "\n",
    "df2 = pd.DataFrame(list1[4:], dtype = int)\n",
    "\n",
    "df1 = df1.rename(columns = {0: 'Interest_rate',\n",
    "                      1: 'Credit card',\n",
    "                      2: 'March Subscriber'\n",
    "                     })\n",
    "\n",
    "df2 = df2.rename(columns = {0: 'Marketing Mails',\n",
    "                      1: 'Bounce Rate(in Percentage)'\n",
    "                      })\n",
    "\n",
    "df1['March Subscriber'] = df1['March Subscriber'].astype(int)\n",
    "\n",
    "fin_df = pd.concat([df1,df2], axis = 1)\n",
    "\n",
    "fin_df['Result'] = (fin_df['Bounce Rate(in Percentage)']*norm_fact) / fin_df['March Subscriber']\n",
    "\n",
    "fin_df = fin_df.sort_values(by = 'Result' , ascending = True).reset_index()\n",
    "\n",
    "print(fin_df['Credit card'][0])"
   ]
  },
  {
   "cell_type": "code",
   "execution_count": null,
   "metadata": {},
   "outputs": [],
   "source": []
  },
  {
   "cell_type": "code",
   "execution_count": null,
   "metadata": {},
   "outputs": [],
   "source": []
  },
  {
   "cell_type": "code",
   "execution_count": null,
   "metadata": {},
   "outputs": [],
   "source": []
  },
  {
   "cell_type": "code",
   "execution_count": null,
   "metadata": {},
   "outputs": [],
   "source": []
  },
  {
   "cell_type": "code",
   "execution_count": null,
   "metadata": {},
   "outputs": [],
   "source": []
  },
  {
   "cell_type": "code",
   "execution_count": null,
   "metadata": {},
   "outputs": [],
   "source": []
  }
 ],
 "metadata": {
  "kernelspec": {
   "display_name": "Python 3",
   "language": "python",
   "name": "python3"
  },
  "language_info": {
   "codemirror_mode": {
    "name": "ipython",
    "version": 3
   },
   "file_extension": ".py",
   "mimetype": "text/x-python",
   "name": "python",
   "nbconvert_exporter": "python",
   "pygments_lexer": "ipython3",
   "version": "3.7.1"
  }
 },
 "nbformat": 4,
 "nbformat_minor": 2
}
