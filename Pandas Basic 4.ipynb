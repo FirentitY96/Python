{
 "cells": [
  {
   "cell_type": "code",
   "execution_count": 1,
   "metadata": {},
   "outputs": [],
   "source": [
    "import pandas as pd\n",
    "import numpy as np"
   ]
  },
  {
   "cell_type": "code",
   "execution_count": 2,
   "metadata": {},
   "outputs": [
    {
     "data": {
      "text/html": [
       "<div>\n",
       "<style scoped>\n",
       "    .dataframe tbody tr th:only-of-type {\n",
       "        vertical-align: middle;\n",
       "    }\n",
       "\n",
       "    .dataframe tbody tr th {\n",
       "        vertical-align: top;\n",
       "    }\n",
       "\n",
       "    .dataframe thead th {\n",
       "        text-align: right;\n",
       "    }\n",
       "</style>\n",
       "<table border=\"1\" class=\"dataframe\">\n",
       "  <thead>\n",
       "    <tr style=\"text-align: right;\">\n",
       "      <th></th>\n",
       "      <th>Season</th>\n",
       "      <th>Nation</th>\n",
       "      <th>Winners</th>\n",
       "      <th>Score</th>\n",
       "      <th>Runners-up</th>\n",
       "      <th>Runner-UpNation</th>\n",
       "      <th>Venue</th>\n",
       "      <th>Attendance</th>\n",
       "    </tr>\n",
       "  </thead>\n",
       "  <tbody>\n",
       "    <tr>\n",
       "      <th>0</th>\n",
       "      <td>1955–56</td>\n",
       "      <td>Spain</td>\n",
       "      <td>Real Madrid</td>\n",
       "      <td>4–3</td>\n",
       "      <td>Stade de Reims</td>\n",
       "      <td>France</td>\n",
       "      <td>Parc des Princes,Paris</td>\n",
       "      <td>38239</td>\n",
       "    </tr>\n",
       "    <tr>\n",
       "      <th>1</th>\n",
       "      <td>1956–57</td>\n",
       "      <td>Spain</td>\n",
       "      <td>Real Madrid</td>\n",
       "      <td>2–0</td>\n",
       "      <td>Fiorentina</td>\n",
       "      <td>Italy</td>\n",
       "      <td>Santiago Bernabéu Stadium, Madrid</td>\n",
       "      <td>124000</td>\n",
       "    </tr>\n",
       "    <tr>\n",
       "      <th>2</th>\n",
       "      <td>1957–58</td>\n",
       "      <td>Spain</td>\n",
       "      <td>Real Madrid</td>\n",
       "      <td>3–2</td>\n",
       "      <td>Milan</td>\n",
       "      <td>Italy</td>\n",
       "      <td>Heysel Stadium,Brussels</td>\n",
       "      <td>67000</td>\n",
       "    </tr>\n",
       "    <tr>\n",
       "      <th>3</th>\n",
       "      <td>1958–59</td>\n",
       "      <td>Spain</td>\n",
       "      <td>Real Madrid</td>\n",
       "      <td>2–0</td>\n",
       "      <td>Stade de Reims</td>\n",
       "      <td>France</td>\n",
       "      <td>Neckarstadion,Stuttgart</td>\n",
       "      <td>72000</td>\n",
       "    </tr>\n",
       "    <tr>\n",
       "      <th>4</th>\n",
       "      <td>1959–60</td>\n",
       "      <td>Spain</td>\n",
       "      <td>Real Madrid</td>\n",
       "      <td>7–3</td>\n",
       "      <td>Eintracht Frankfurt</td>\n",
       "      <td>Germany</td>\n",
       "      <td>Hampden Park,Glasgow</td>\n",
       "      <td>127621</td>\n",
       "    </tr>\n",
       "  </tbody>\n",
       "</table>\n",
       "</div>"
      ],
      "text/plain": [
       "    Season Nation      Winners Score           Runners-up Runner-UpNation  \\\n",
       "0  1955–56  Spain  Real Madrid   4–3       Stade de Reims          France   \n",
       "1  1956–57  Spain  Real Madrid   2–0           Fiorentina           Italy   \n",
       "2  1957–58  Spain  Real Madrid   3–2                Milan           Italy   \n",
       "3  1958–59  Spain  Real Madrid   2–0       Stade de Reims          France   \n",
       "4  1959–60  Spain  Real Madrid   7–3  Eintracht Frankfurt         Germany   \n",
       "\n",
       "                               Venue  Attendance  \n",
       "0             Parc des Princes,Paris       38239  \n",
       "1  Santiago Bernabéu Stadium, Madrid      124000  \n",
       "2            Heysel Stadium,Brussels       67000  \n",
       "3            Neckarstadion,Stuttgart       72000  \n",
       "4               Hampden Park,Glasgow      127621  "
      ]
     },
     "execution_count": 2,
     "metadata": {},
     "output_type": "execute_result"
    }
   ],
   "source": [
    "winner = pd.read_csv('D:/Programming in Data Science/Pandas/euro_winners.csv')\n",
    "winner.head()"
   ]
  },
  {
   "cell_type": "code",
   "execution_count": 3,
   "metadata": {},
   "outputs": [
    {
     "data": {
      "text/plain": [
       "<pandas.core.groupby.groupby.DataFrameGroupBy object at 0x000001DA96B8C240>"
      ]
     },
     "execution_count": 3,
     "metadata": {},
     "output_type": "execute_result"
    }
   ],
   "source": [
    "grp_nation = winner.groupby('Nation')\n",
    "grp_nation"
   ]
  },
  {
   "cell_type": "code",
   "execution_count": 4,
   "metadata": {},
   "outputs": [
    {
     "data": {
      "text/plain": [
       "{'England': Int64Index([12, 21, 22, 23, 24, 25, 26, 28, 43, 49, 52, 56], dtype='int64'),\n",
       " 'France': Int64Index([37], dtype='int64'),\n",
       " 'Germany': Int64Index([18, 19, 20, 27, 41, 45, 57], dtype='int64'),\n",
       " 'Italy': Int64Index([7, 8, 9, 13, 29, 33, 34, 38, 40, 47, 51, 54], dtype='int64'),\n",
       " 'Netherlands': Int64Index([14, 15, 16, 17, 32, 39], dtype='int64'),\n",
       " 'Portugal': Int64Index([5, 6, 31, 48], dtype='int64'),\n",
       " 'Romania': Int64Index([30], dtype='int64'),\n",
       " 'Scotland': Int64Index([11], dtype='int64'),\n",
       " 'Spain': Int64Index([0, 1, 2, 3, 4, 10, 36, 42, 44, 46, 50, 53, 55], dtype='int64'),\n",
       " 'Yugoslavia': Int64Index([35], dtype='int64')}"
      ]
     },
     "execution_count": 4,
     "metadata": {},
     "output_type": "execute_result"
    }
   ],
   "source": [
    "grp_nation.groups"
   ]
  },
  {
   "cell_type": "code",
   "execution_count": 6,
   "metadata": {},
   "outputs": [],
   "source": [
    "grp_size = grp_nation.size()"
   ]
  },
  {
   "cell_type": "code",
   "execution_count": 9,
   "metadata": {},
   "outputs": [
    {
     "data": {
      "text/plain": [
       "Nation\n",
       "Spain          13\n",
       "Italy          12\n",
       "England        12\n",
       "Germany         7\n",
       "Netherlands     6\n",
       "Portugal        4\n",
       "Yugoslavia      1\n",
       "Scotland        1\n",
       "Romania         1\n",
       "France          1\n",
       "dtype: int64"
      ]
     },
     "execution_count": 9,
     "metadata": {},
     "output_type": "execute_result"
    }
   ],
   "source": [
    "grp_size.sort_values(ascending=False)"
   ]
  },
  {
   "cell_type": "code",
   "execution_count": 11,
   "metadata": {},
   "outputs": [
    {
     "data": {
      "text/plain": [
       "<pandas.core.groupby.groupby.DataFrameGroupBy object at 0x000001DA92768518>"
      ]
     },
     "execution_count": 11,
     "metadata": {},
     "output_type": "execute_result"
    }
   ],
   "source": [
    "grp_winner = winner.groupby(['Nation','Winners'])\n",
    "grp_winner"
   ]
  },
  {
   "cell_type": "code",
   "execution_count": 14,
   "metadata": {},
   "outputs": [
    {
     "data": {
      "text/plain": [
       "{('England', 'Aston Villa'): Int64Index([26], dtype='int64'),\n",
       " ('England', 'Chelsea'): Int64Index([56], dtype='int64'),\n",
       " ('England', 'Liverpool'): Int64Index([21, 22, 25, 28, 49], dtype='int64'),\n",
       " ('England', 'Manchester United'): Int64Index([12, 43, 52], dtype='int64'),\n",
       " ('England', 'Nottingham Forest'): Int64Index([23, 24], dtype='int64'),\n",
       " ('France', 'Marseille'): Int64Index([37], dtype='int64'),\n",
       " ('Germany', 'Bayern Munich'): Int64Index([18, 19, 20, 45, 57], dtype='int64'),\n",
       " ('Germany', 'Borussia Dortmund'): Int64Index([41], dtype='int64'),\n",
       " ('Germany', 'Hamburg'): Int64Index([27], dtype='int64'),\n",
       " ('Italy', 'Internazionale'): Int64Index([8, 9, 54], dtype='int64'),\n",
       " ('Italy', 'Juventus'): Int64Index([29, 40], dtype='int64'),\n",
       " ('Italy', 'Milan'): Int64Index([7, 13, 33, 34, 38, 47, 51], dtype='int64'),\n",
       " ('Netherlands', 'Ajax'): Int64Index([15, 16, 17, 39], dtype='int64'),\n",
       " ('Netherlands', 'Feyenoord'): Int64Index([14], dtype='int64'),\n",
       " ('Netherlands', 'PSV Eindhoven'): Int64Index([32], dtype='int64'),\n",
       " ('Portugal', 'Benfica'): Int64Index([5, 6], dtype='int64'),\n",
       " ('Portugal', 'Porto'): Int64Index([31, 48], dtype='int64'),\n",
       " ('Romania', 'Steaua Bucure?ti'): Int64Index([30], dtype='int64'),\n",
       " ('Scotland', 'Celtic'): Int64Index([11], dtype='int64'),\n",
       " ('Spain', 'Barcelona'): Int64Index([36, 50, 53, 55], dtype='int64'),\n",
       " ('Spain',\n",
       "  'Real Madrid'): Int64Index([0, 1, 2, 3, 4, 10, 42, 44, 46], dtype='int64'),\n",
       " ('Yugoslavia', 'Red Star Belgrade'): Int64Index([35], dtype='int64')}"
      ]
     },
     "execution_count": 14,
     "metadata": {},
     "output_type": "execute_result"
    }
   ],
   "source": [
    "grp_winner.groups"
   ]
  },
  {
   "cell_type": "code",
   "execution_count": 15,
   "metadata": {},
   "outputs": [
    {
     "data": {
      "text/plain": [
       "Nation       Winners          \n",
       "England      Aston Villa          1\n",
       "             Chelsea              1\n",
       "             Liverpool            5\n",
       "             Manchester United    3\n",
       "             Nottingham Forest    2\n",
       "France       Marseille            1\n",
       "Germany      Bayern Munich        5\n",
       "             Borussia Dortmund    1\n",
       "             Hamburg              1\n",
       "Italy        Internazionale       3\n",
       "             Juventus             2\n",
       "             Milan                7\n",
       "Netherlands  Ajax                 4\n",
       "             Feyenoord            1\n",
       "             PSV Eindhoven        1\n",
       "Portugal     Benfica              2\n",
       "             Porto                2\n",
       "Romania      Steaua Bucure?ti     1\n",
       "Scotland     Celtic               1\n",
       "Spain        Barcelona            4\n",
       "             Real Madrid          9\n",
       "Yugoslavia   Red Star Belgrade    1\n",
       "dtype: int64"
      ]
     },
     "execution_count": 15,
     "metadata": {},
     "output_type": "execute_result"
    }
   ],
   "source": [
    "grp_winner_size = grp_winner.size()\n",
    "grp_winner_size"
   ]
  },
  {
   "cell_type": "code",
   "execution_count": 18,
   "metadata": {},
   "outputs": [
    {
     "data": {
      "text/plain": [
       "Nation       Winners          \n",
       "Spain        Real Madrid          9\n",
       "Italy        Milan                7\n",
       "Germany      Bayern Munich        5\n",
       "England      Liverpool            5\n",
       "Spain        Barcelona            4\n",
       "Netherlands  Ajax                 4\n",
       "England      Manchester United    3\n",
       "Italy        Internazionale       3\n",
       "             Juventus             2\n",
       "Portugal     Porto                2\n",
       "             Benfica              2\n",
       "England      Nottingham Forest    2\n",
       "             Chelsea              1\n",
       "France       Marseille            1\n",
       "Yugoslavia   Red Star Belgrade    1\n",
       "Germany      Borussia Dortmund    1\n",
       "             Hamburg              1\n",
       "Netherlands  Feyenoord            1\n",
       "             PSV Eindhoven        1\n",
       "Romania      Steaua Bucure?ti     1\n",
       "Scotland     Celtic               1\n",
       "England      Aston Villa          1\n",
       "dtype: int64"
      ]
     },
     "execution_count": 18,
     "metadata": {},
     "output_type": "execute_result"
    }
   ],
   "source": [
    "grp_winner_size.sort_values(ascending=False)"
   ]
  },
  {
   "cell_type": "code",
   "execution_count": 37,
   "metadata": {},
   "outputs": [
    {
     "data": {
      "text/html": [
       "<div>\n",
       "<style scoped>\n",
       "    .dataframe tbody tr th:only-of-type {\n",
       "        vertical-align: middle;\n",
       "    }\n",
       "\n",
       "    .dataframe tbody tr th {\n",
       "        vertical-align: top;\n",
       "    }\n",
       "\n",
       "    .dataframe thead th {\n",
       "        text-align: right;\n",
       "    }\n",
       "</style>\n",
       "<table border=\"1\" class=\"dataframe\">\n",
       "  <thead>\n",
       "    <tr style=\"text-align: right;\">\n",
       "      <th></th>\n",
       "      <th>Stat</th>\n",
       "      <th>EPL</th>\n",
       "      <th>La Liga</th>\n",
       "      <th>Serie A</th>\n",
       "      <th>Bundesliga</th>\n",
       "    </tr>\n",
       "    <tr>\n",
       "      <th>Month</th>\n",
       "      <th></th>\n",
       "      <th></th>\n",
       "      <th></th>\n",
       "      <th></th>\n",
       "      <th></th>\n",
       "    </tr>\n",
       "  </thead>\n",
       "  <tbody>\n",
       "    <tr>\n",
       "      <th>08/01/2012</th>\n",
       "      <td>MatchesPlayed</td>\n",
       "      <td>20.0</td>\n",
       "      <td>20</td>\n",
       "      <td>10.0</td>\n",
       "      <td>10.0</td>\n",
       "    </tr>\n",
       "    <tr>\n",
       "      <th>09/01/2012</th>\n",
       "      <td>MatchesPlayed</td>\n",
       "      <td>38.0</td>\n",
       "      <td>39</td>\n",
       "      <td>50.0</td>\n",
       "      <td>44.0</td>\n",
       "    </tr>\n",
       "    <tr>\n",
       "      <th>10/01/2012</th>\n",
       "      <td>MatchesPlayed</td>\n",
       "      <td>31.0</td>\n",
       "      <td>31</td>\n",
       "      <td>39.0</td>\n",
       "      <td>27.0</td>\n",
       "    </tr>\n",
       "    <tr>\n",
       "      <th>11/01/2012</th>\n",
       "      <td>MatchesPlayed</td>\n",
       "      <td>50.0</td>\n",
       "      <td>41</td>\n",
       "      <td>42.0</td>\n",
       "      <td>46.0</td>\n",
       "    </tr>\n",
       "    <tr>\n",
       "      <th>12/01/2012</th>\n",
       "      <td>MatchesPlayed</td>\n",
       "      <td>59.0</td>\n",
       "      <td>39</td>\n",
       "      <td>39.0</td>\n",
       "      <td>26.0</td>\n",
       "    </tr>\n",
       "  </tbody>\n",
       "</table>\n",
       "</div>"
      ],
      "text/plain": [
       "                     Stat   EPL  La Liga  Serie A  Bundesliga\n",
       "Month                                                        \n",
       "08/01/2012  MatchesPlayed  20.0       20     10.0        10.0\n",
       "09/01/2012  MatchesPlayed  38.0       39     50.0        44.0\n",
       "10/01/2012  MatchesPlayed  31.0       31     39.0        27.0\n",
       "11/01/2012  MatchesPlayed  50.0       41     42.0        46.0\n",
       "12/01/2012  MatchesPlayed  59.0       39     39.0        26.0"
      ]
     },
     "execution_count": 37,
     "metadata": {},
     "output_type": "execute_result"
    }
   ],
   "source": [
    "goal = pd.read_csv('D:/Programming in Data Science/Pandas/goal_stats_euro_leagues_2012-13.csv')\n",
    "goal = goal.set_index('Month')\n",
    "goal.head()\n"
   ]
  },
  {
   "cell_type": "code",
   "execution_count": 41,
   "metadata": {},
   "outputs": [
    {
     "data": {
      "text/plain": [
       "<pandas.core.groupby.groupby.DataFrameGroupBy object at 0x000001DA98F46400>"
      ]
     },
     "execution_count": 41,
     "metadata": {},
     "output_type": "execute_result"
    }
   ],
   "source": [
    "goal_month = goal.groupby(lambda Month : Month.split('/')[1])\n",
    "goal_month"
   ]
  },
  {
   "cell_type": "code",
   "execution_count": 42,
   "metadata": {},
   "outputs": [
    {
     "data": {
      "text/plain": [
       "{'01': Index(['08/01/2012', '09/01/2012', '10/01/2012', '11/01/2012', '12/01/2012',\n",
       "        '01/01/2013', '02/01/2013', '03/01/2013', '04/01/2013', '05/01/2013',\n",
       "        '08/01/2012', '09/01/2012', '10/01/2012', '11/01/2012', '12/01/2012',\n",
       "        '01/01/2013', '02/01/2013', '03/01/2013', '04/01/2013', '05/01/2013',\n",
       "        '06/01/2013'],\n",
       "       dtype='object', name='Month'),\n",
       " '02': Index(['06/02/2013'], dtype='object', name='Month')}"
      ]
     },
     "execution_count": 42,
     "metadata": {},
     "output_type": "execute_result"
    }
   ],
   "source": [
    "goal_month.groups"
   ]
  },
  {
   "cell_type": "code",
   "execution_count": 43,
   "metadata": {},
   "outputs": [
    {
     "data": {
      "text/plain": [
       "<pandas.core.groupby.groupby.DataFrameGroupBy object at 0x000001DA991A57F0>"
      ]
     },
     "execution_count": 43,
     "metadata": {},
     "output_type": "execute_result"
    }
   ],
   "source": [
    "goal_year = goal.groupby(lambda Month : Month.split('/')[2])\n",
    "goal_year"
   ]
  },
  {
   "cell_type": "code",
   "execution_count": 44,
   "metadata": {},
   "outputs": [
    {
     "data": {
      "text/plain": [
       "{'2012': Index(['08/01/2012', '09/01/2012', '10/01/2012', '11/01/2012', '12/01/2012',\n",
       "        '08/01/2012', '09/01/2012', '10/01/2012', '11/01/2012', '12/01/2012'],\n",
       "       dtype='object', name='Month'),\n",
       " '2013': Index(['01/01/2013', '02/01/2013', '03/01/2013', '04/01/2013', '05/01/2013',\n",
       "        '06/02/2013', '01/01/2013', '02/01/2013', '03/01/2013', '04/01/2013',\n",
       "        '05/01/2013', '06/01/2013'],\n",
       "       dtype='object', name='Month')}"
      ]
     },
     "execution_count": 44,
     "metadata": {},
     "output_type": "execute_result"
    }
   ],
   "source": [
    "goal_year.groups"
   ]
  },
  {
   "cell_type": "code",
   "execution_count": 50,
   "metadata": {},
   "outputs": [
    {
     "data": {
      "text/plain": [
       "<pandas.core.groupby.groupby.DataFrameGroupBy object at 0x000001DA995A6550>"
      ]
     },
     "execution_count": 50,
     "metadata": {},
     "output_type": "execute_result"
    }
   ],
   "source": [
    "goal_grpby_month = goal.groupby(level = 0)\n",
    "goal_grpby_month"
   ]
  },
  {
   "cell_type": "code",
   "execution_count": 48,
   "metadata": {},
   "outputs": [
    {
     "data": {
      "text/plain": [
       "{'01/01/2013': Index(['01/01/2013', '01/01/2013'], dtype='object', name='Month'),\n",
       " '02/01/2013': Index(['02/01/2013', '02/01/2013'], dtype='object', name='Month'),\n",
       " '03/01/2013': Index(['03/01/2013', '03/01/2013'], dtype='object', name='Month'),\n",
       " '04/01/2013': Index(['04/01/2013', '04/01/2013'], dtype='object', name='Month'),\n",
       " '05/01/2013': Index(['05/01/2013', '05/01/2013'], dtype='object', name='Month'),\n",
       " '06/01/2013': Index(['06/01/2013'], dtype='object', name='Month'),\n",
       " '06/02/2013': Index(['06/02/2013'], dtype='object', name='Month'),\n",
       " '08/01/2012': Index(['08/01/2012', '08/01/2012'], dtype='object', name='Month'),\n",
       " '09/01/2012': Index(['09/01/2012', '09/01/2012'], dtype='object', name='Month'),\n",
       " '10/01/2012': Index(['10/01/2012', '10/01/2012'], dtype='object', name='Month'),\n",
       " '11/01/2012': Index(['11/01/2012', '11/01/2012'], dtype='object', name='Month'),\n",
       " '12/01/2012': Index(['12/01/2012', '12/01/2012'], dtype='object', name='Month')}"
      ]
     },
     "execution_count": 48,
     "metadata": {},
     "output_type": "execute_result"
    }
   ],
   "source": [
    "goal_grpby_month.groups"
   ]
  },
  {
   "cell_type": "code",
   "execution_count": 52,
   "metadata": {},
   "outputs": [
    {
     "name": "stdout",
     "output_type": "stream",
     "text": [
      "01/01/2013\n",
      "                     Stat    EPL  La Liga  Serie A  Bundesliga\n",
      "Month                                                         \n",
      "01/01/2013  MatchesPlayed   42.0       40     40.0        18.0\n",
      "01/01/2013    GoalsScored  117.0      121    104.0        51.0\n",
      "\n",
      "\n",
      "02/01/2013\n",
      "                     Stat   EPL  La Liga  Serie A  Bundesliga\n",
      "Month                                                        \n",
      "02/01/2013  MatchesPlayed  30.0       40     40.0        36.0\n",
      "02/01/2013    GoalsScored  87.0      110    100.0       101.0\n",
      "\n",
      "\n",
      "03/01/2013\n",
      "                     Stat   EPL  La Liga  Serie A  Bundesliga\n",
      "Month                                                        \n",
      "03/01/2013  MatchesPlayed  35.0       38     39.0        36.0\n",
      "03/01/2013    GoalsScored  91.0      101     99.0       106.0\n",
      "\n",
      "\n",
      "04/01/2013\n",
      "                     Stat    EPL  La Liga  Serie A  Bundesliga\n",
      "Month                                                         \n",
      "04/01/2013  MatchesPlayed   42.0       42     41.0        36.0\n",
      "04/01/2013    GoalsScored  105.0      127    102.0       104.0\n",
      "\n",
      "\n",
      "05/01/2013\n",
      "                     Stat   EPL  La Liga  Serie A  Bundesliga\n",
      "Month                                                        \n",
      "05/01/2013  MatchesPlayed  33.0       40     40.0        27.0\n",
      "05/01/2013    GoalsScored  96.0      109    102.0        92.0\n",
      "\n",
      "\n",
      "06/01/2013\n",
      "                   Stat  EPL  La Liga  Serie A  Bundesliga\n",
      "Month                                                     \n",
      "06/01/2013  GoalsScored  NaN       80      NaN         NaN\n",
      "\n",
      "\n",
      "06/02/2013\n",
      "                     Stat  EPL  La Liga  Serie A  Bundesliga\n",
      "Month                                                       \n",
      "06/02/2013  MatchesPlayed  NaN       10      NaN         NaN\n",
      "\n",
      "\n",
      "08/01/2012\n",
      "                     Stat   EPL  La Liga  Serie A  Bundesliga\n",
      "Month                                                        \n",
      "08/01/2012  MatchesPlayed  20.0       20     10.0        10.0\n",
      "08/01/2012    GoalsScored  57.0       60     21.0        23.0\n",
      "\n",
      "\n",
      "09/01/2012\n",
      "                     Stat    EPL  La Liga  Serie A  Bundesliga\n",
      "Month                                                         \n",
      "09/01/2012  MatchesPlayed   38.0       39     50.0        44.0\n",
      "09/01/2012    GoalsScored  111.0      112    133.0       135.0\n",
      "\n",
      "\n",
      "10/01/2012\n",
      "                     Stat   EPL  La Liga  Serie A  Bundesliga\n",
      "Month                                                        \n",
      "10/01/2012  MatchesPlayed  31.0       31     39.0        27.0\n",
      "10/01/2012    GoalsScored  95.0       88     97.0        77.0\n",
      "\n",
      "\n",
      "11/01/2012\n",
      "                     Stat    EPL  La Liga  Serie A  Bundesliga\n",
      "Month                                                         \n",
      "11/01/2012  MatchesPlayed   50.0       41     42.0        46.0\n",
      "11/01/2012    GoalsScored  121.0      116    120.0       137.0\n",
      "\n",
      "\n",
      "12/01/2012\n",
      "                     Stat    EPL  La Liga  Serie A  Bundesliga\n",
      "Month                                                         \n",
      "12/01/2012  MatchesPlayed   59.0       39     39.0        26.0\n",
      "12/01/2012    GoalsScored  183.0      109    125.0        72.0\n",
      "\n",
      "\n"
     ]
    }
   ],
   "source": [
    "for month,group in goal_grpby_month:\n",
    "    print(month)\n",
    "    print(group)\n",
    "    print('\\n')"
   ]
  },
  {
   "cell_type": "code",
   "execution_count": null,
   "metadata": {},
   "outputs": [],
   "source": []
  }
 ],
 "metadata": {
  "kernelspec": {
   "display_name": "Python 3",
   "language": "python",
   "name": "python3"
  },
  "language_info": {
   "codemirror_mode": {
    "name": "ipython",
    "version": 3
   },
   "file_extension": ".py",
   "mimetype": "text/x-python",
   "name": "python",
   "nbconvert_exporter": "python",
   "pygments_lexer": "ipython3",
   "version": "3.7.1"
  }
 },
 "nbformat": 4,
 "nbformat_minor": 2
}
