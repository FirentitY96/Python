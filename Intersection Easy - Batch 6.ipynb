{
 "cells": [
  {
   "cell_type": "code",
   "execution_count": null,
   "metadata": {},
   "outputs": [],
   "source": [
    "mall = input().split(\" \")\n",
    "type_tshirt, = int(mall[0])\n",
    "no_person = int(mall[1])\n",
    "no_tshirt = int(input())\n",
    "LIST = [[]]\n",
    "for i in range(no_tshirt):\n",
    "    q = input().split(\" \")\n",
    "    if len(LIST) > int(q[0]):\n",
    "        LIST[int(q[0])].append(q[1])\n",
    "    else:\n",
    "        LIST.append([q[1]])\n",
    "\n",
    "no_question = int(input())\n",
    "for i in range(no_question):\n",
    "    count = 0\n",
    "    n = int(input())\n",
    "    a = input().split(\" \")\n",
    "    out_set = set(a)\n",
    "    for k in range(len(LIST)):\n",
    "        n = set(LIST[k])\n",
    "        ins = n.intersection(out_set)\n",
    "        if len(out_set - ins) == 0:\n",
    "            count += 1\n",
    "    print(count)            "
   ]
  },
  {
   "cell_type": "code",
   "execution_count": 28,
   "metadata": {},
   "outputs": [
    {
     "name": "stdout",
     "output_type": "stream",
     "text": [
      "2 3\n",
      "5\n",
      "1 1\n",
      "1 2\n",
      "2 1\n",
      "3 1\n",
      "1 2\n",
      "2\n",
      "2\n",
      "1 2\n",
      "1\n",
      "1\n",
      "1\n",
      "3\n"
     ]
    }
   ],
   "source": [
    "type_shirt, no_people = map(int,input().split(' '))\n",
    "q = int(input())\n",
    "p = []\n",
    "k = []\n",
    "for i in range(q):\n",
    "    b, c = map(int, input().split(' '))\n",
    "    p.append(b)\n",
    "    k.append(c)\n",
    "    \n",
    "people = []\n",
    "set1 = set(p)\n",
    "\n",
    "for j in set1:\n",
    "    set2 = set()\n",
    "    for i in range(len(p)):\n",
    "        if j == p[i]:\n",
    "            set2.add(k[i])\n",
    "    people.append(set2)\n",
    "    \n",
    "r = int(input())\n",
    "for i in range(r):\n",
    "    n = int(input())\n",
    "    list1 = map(int,input().split(' '))\n",
    "    set3 = set(list1)\n",
    "    count = 0\n",
    "\n",
    "    for a in range(len(people)):\n",
    "        set4 = people[a].intersection(set3)\n",
    "        if set3 == set4 :\n",
    "            count += 1\n",
    "\n",
    "    print(count)"
   ]
  },
  {
   "cell_type": "code",
   "execution_count": null,
   "metadata": {},
   "outputs": [],
   "source": [
    "2 3\n",
    "5\n",
    "1 1\n",
    "1 2\n",
    "2 1\n",
    "3 1\n",
    "1 2\n",
    "2\n",
    "2\n",
    "1 2\n",
    "1\n",
    "1 "
   ]
  },
  {
   "cell_type": "code",
   "execution_count": 21,
   "metadata": {},
   "outputs": [],
   "source": [
    "p = [1,2,3,1,2,1]\n",
    "k = [2,3,1,4,2,1]\n",
    "\n",
    "# people = [{2,4,1},{3,2},{1}]\n",
    "people = []\n",
    "set1 = set(p)\n",
    "\n",
    "for j in set1:\n",
    "    set2 = set()\n",
    "    for i in range(len(p)):\n",
    "        if j == p[i]:\n",
    "            set2.add(k[i])\n",
    "    people.append(set2)"
   ]
  },
  {
   "cell_type": "code",
   "execution_count": 23,
   "metadata": {},
   "outputs": [
    {
     "data": {
      "text/plain": [
       "{1, 2, 4}"
      ]
     },
     "execution_count": 23,
     "metadata": {},
     "output_type": "execute_result"
    }
   ],
   "source": [
    "people[0]"
   ]
  },
  {
   "cell_type": "code",
   "execution_count": 25,
   "metadata": {},
   "outputs": [
    {
     "name": "stdout",
     "output_type": "stream",
     "text": [
      "True\n"
     ]
    }
   ],
   "source": [
    "if A == people[0]:\n",
    "    print('True')\n",
    "else:\n",
    "    print('False')"
   ]
  },
  {
   "cell_type": "code",
   "execution_count": 24,
   "metadata": {},
   "outputs": [
    {
     "data": {
      "text/plain": [
       "{1, 2}"
      ]
     },
     "execution_count": 24,
     "metadata": {},
     "output_type": "execute_result"
    }
   ],
   "source": [
    " A = {1, 2, 4}\n",
    "B = {1, 2} \n",
    " C = A.intersection(B)\n",
    "C"
   ]
  },
  {
   "cell_type": "code",
   "execution_count": 5,
   "metadata": {},
   "outputs": [],
   "source": [
    "b = [{1,2}, {2}, {1,2,3}]"
   ]
  },
  {
   "cell_type": "code",
   "execution_count": 7,
   "metadata": {},
   "outputs": [
    {
     "data": {
      "text/plain": [
       "{1, 2}"
      ]
     },
     "execution_count": 7,
     "metadata": {},
     "output_type": "execute_result"
    }
   ],
   "source": [
    "b[0]"
   ]
  },
  {
   "cell_type": "code",
   "execution_count": 12,
   "metadata": {},
   "outputs": [
    {
     "data": {
      "text/plain": [
       "3"
      ]
     },
     "execution_count": 12,
     "metadata": {},
     "output_type": "execute_result"
    }
   ],
   "source": [
    "p = [1,8,6,1,1,6,6]\n",
    "len(set(p))"
   ]
  },
  {
   "cell_type": "code",
   "execution_count": 13,
   "metadata": {},
   "outputs": [
    {
     "data": {
      "text/plain": [
       "list"
      ]
     },
     "execution_count": 13,
     "metadata": {},
     "output_type": "execute_result"
    }
   ],
   "source": [
    "type(p)"
   ]
  },
  {
   "cell_type": "code",
   "execution_count": 36,
   "metadata": {},
   "outputs": [],
   "source": [
    "from numpy import binary_repr\n",
    "\n",
    "def isComp(a,b):\n",
    "    # getting the list of prime numbers:\n",
    "    prime = []\n",
    "    for num in range(2,101):\n",
    "        for h in range(2,num):\n",
    "            if (num % h==0):\n",
    "                break\n",
    "        else:\n",
    "            prime.append(num)\n",
    "            \n",
    "    # finding the divisors:\n",
    "    divisors = []\n",
    "    for i in prime:\n",
    "        if (a % i == 0):\n",
    "            divisors.append(i)\n",
    "            \n",
    "    # converting to binary:\n",
    "    binary = []\n",
    "    for j in divisors:\n",
    "        binary.append(binary_repr(j))\n",
    "        \n",
    "    #reverse the binary digits:\n",
    "    bin_fin = []\n",
    "    for words in range(len(binary)):\n",
    "        temp = ''\n",
    "        for digits in range(len(binary[words])):\n",
    "            if (binary[words][digits] == '1'):\n",
    "                temp = temp + '0'\n",
    "            else:\n",
    "                temp = temp + '1'\n",
    "        bin_fin.append(temp)\n",
    "        \n",
    "    # checking for equivalence:\n",
    "    for k in bin_fin:\n",
    "        value = False\n",
    "        if str(k) == str(binary_repr(b)):\n",
    "            value = True\n",
    "        print(k)\n",
    "    return value"
   ]
  },
  {
   "cell_type": "code",
   "execution_count": 37,
   "metadata": {},
   "outputs": [
    {
     "name": "stdout",
     "output_type": "stream",
     "text": [
      "7 7\n",
      "000\n",
      "False\n"
     ]
    }
   ],
   "source": [
    "a , b = list(map(int, input().rstrip().split()))\n",
    "value = isComp(a,b)\n",
    "print(value)"
   ]
  },
  {
   "cell_type": "code",
   "execution_count": 33,
   "metadata": {},
   "outputs": [
    {
     "data": {
      "text/plain": [
       "[1, 2, 1, 1, 2]"
      ]
     },
     "execution_count": 33,
     "metadata": {},
     "output_type": "execute_result"
    }
   ],
   "source": []
  },
  {
   "cell_type": "code",
   "execution_count": null,
   "metadata": {},
   "outputs": [],
   "source": []
  }
 ],
 "metadata": {
  "kernelspec": {
   "display_name": "Python 3",
   "language": "python",
   "name": "python3"
  },
  "language_info": {
   "codemirror_mode": {
    "name": "ipython",
    "version": 3
   },
   "file_extension": ".py",
   "mimetype": "text/x-python",
   "name": "python",
   "nbconvert_exporter": "python",
   "pygments_lexer": "ipython3",
   "version": "3.7.1"
  }
 },
 "nbformat": 4,
 "nbformat_minor": 2
}
