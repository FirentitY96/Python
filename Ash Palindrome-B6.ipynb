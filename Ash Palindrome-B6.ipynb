{
 "cells": [
  {
   "cell_type": "code",
   "execution_count": 1,
   "metadata": {},
   "outputs": [
    {
     "name": "stdout",
     "output_type": "stream",
     "text": [
      "2\n",
      "i am learning python tutorial @DoSELECT and today is 11/22/11\n",
      "cat is si tac\n",
      "No Yes\n",
      "Yes Yes\n"
     ]
    }
   ],
   "source": [
    "a = int(input())\n",
    "list1=[]\n",
    "for i in range(0,a):\n",
    "    str1=input()\n",
    "    list1.append(str1)\n",
    "list1\n",
    "strlist=''\n",
    "charlist=''\n",
    "for str1 in list1:\n",
    "    l=len(str1)\n",
    "    a=[]\n",
    "    b=[]\n",
    "    for j in range(l):\n",
    "        if str1[j].isalpha():\n",
    "                a+=str1[j]\n",
    "        elif str1[j].isdigit():\n",
    "            b.append(str1[j])\n",
    "        else:\n",
    "            charlist+=str1[j]    \n",
    "    if a==a[::-1]:\n",
    "        print('Yes',end=' ')\n",
    "    else:\n",
    "        print('No',end=' ')\n",
    "    if b==b[::-1]:\n",
    "        print('Yes',end='\\n')\n",
    "    else:\n",
    "        print('No',end='\\n')"
   ]
  },
  {
   "cell_type": "code",
   "execution_count": 2,
   "metadata": {},
   "outputs": [
    {
     "data": {
      "text/plain": [
       "['c', 'a', 't', 'i', 's', 's', 'i', 't', 'a', 'c']"
      ]
     },
     "execution_count": 2,
     "metadata": {},
     "output_type": "execute_result"
    }
   ],
   "source": [
    "a"
   ]
  },
  {
   "cell_type": "code",
   "execution_count": 3,
   "metadata": {},
   "outputs": [
    {
     "data": {
      "text/plain": [
       "[]"
      ]
     },
     "execution_count": 3,
     "metadata": {},
     "output_type": "execute_result"
    }
   ],
   "source": [
    "b"
   ]
  },
  {
   "cell_type": "code",
   "execution_count": null,
   "metadata": {},
   "outputs": [],
   "source": []
  }
 ],
 "metadata": {
  "kernelspec": {
   "display_name": "Python 3",
   "language": "python",
   "name": "python3"
  },
  "language_info": {
   "codemirror_mode": {
    "name": "ipython",
    "version": 3
   },
   "file_extension": ".py",
   "mimetype": "text/x-python",
   "name": "python",
   "nbconvert_exporter": "python",
   "pygments_lexer": "ipython3",
   "version": "3.7.1"
  }
 },
 "nbformat": 4,
 "nbformat_minor": 2
}
