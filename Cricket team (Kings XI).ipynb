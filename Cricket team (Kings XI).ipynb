{
 "cells": [
  {
   "cell_type": "code",
   "execution_count": 46,
   "metadata": {},
   "outputs": [],
   "source": [
    "import pandas as pd\n",
    "import numpy as np\n",
    "from sklearn.linear_model import LinearRegression"
   ]
  },
  {
   "cell_type": "code",
   "execution_count": 5,
   "metadata": {},
   "outputs": [
    {
     "name": "stdout",
     "output_type": "stream",
     "text": [
      "56 48 75 15 32 21 52 9\n",
      "42 39 51 8 27 19 26 6\n",
      "First-Batting First-Batting Chasing Chasing First-Batting First-Batting Chasing Chasing\n"
     ]
    }
   ],
   "source": [
    "y = list(map(int,input().split(' ')))\n",
    "x1 = list(map(int, input().split(' ')))\n",
    "x2 = list(map(str,input().split(' ')))"
   ]
  },
  {
   "cell_type": "code",
   "execution_count": 22,
   "metadata": {},
   "outputs": [
    {
     "data": {
      "text/plain": [
       "[0, 0, 1, 1, 0, 0, 1, 1]"
      ]
     },
     "execution_count": 22,
     "metadata": {},
     "output_type": "execute_result"
    }
   ],
   "source": [
    "x2_encoding = list(map(lambda x:0 if x=='First-Batting' else 1,x2))\n",
    "x2_encoding"
   ]
  },
  {
   "cell_type": "code",
   "execution_count": 23,
   "metadata": {},
   "outputs": [],
   "source": [
    "x1_arr = np.asarray(x1)\n",
    "x2_arr = np.asarray(x2_encoding)\n",
    "y_arr = np.asarray(y)"
   ]
  },
  {
   "cell_type": "code",
   "execution_count": 47,
   "metadata": {},
   "outputs": [],
   "source": [
    "X = np.array([x1_arr, x2_arr]).T   #transpose, instead of reshape\n",
    "Y = np.array(y_arr)\n",
    "\n",
    "reg = LinearRegression()\n",
    "reg = reg.fit(X,Y)"
   ]
  },
  {
   "cell_type": "code",
   "execution_count": 36,
   "metadata": {},
   "outputs": [
    {
     "name": "stdout",
     "output_type": "stream",
     "text": [
      "15\n",
      "First-Batting\n"
     ]
    }
   ],
   "source": [
    "x1_pred = int(input())\n",
    "x2_lambda = lambda x:0 if x=='First-Batting' else 1\n",
    "x2_pred = x2_lambda(input())"
   ]
  },
  {
   "cell_type": "code",
   "execution_count": 48,
   "metadata": {},
   "outputs": [],
   "source": [
    "Y_pred = reg.predict(np.array([[x1_pred],[x2_pred]]).T)\n",
    "y_pred = int(round(Y_pred[0],0))"
   ]
  },
  {
   "cell_type": "code",
   "execution_count": 49,
   "metadata": {},
   "outputs": [
    {
     "name": "stdout",
     "output_type": "stream",
     "text": [
      "15\n"
     ]
    }
   ],
   "source": [
    "print(y_pred)"
   ]
  },
  {
   "cell_type": "code",
   "execution_count": null,
   "metadata": {},
   "outputs": [],
   "source": []
  }
 ],
 "metadata": {
  "kernelspec": {
   "display_name": "Python 3",
   "language": "python",
   "name": "python3"
  },
  "language_info": {
   "codemirror_mode": {
    "name": "ipython",
    "version": 3
   },
   "file_extension": ".py",
   "mimetype": "text/x-python",
   "name": "python",
   "nbconvert_exporter": "python",
   "pygments_lexer": "ipython3",
   "version": "3.7.1"
  }
 },
 "nbformat": 4,
 "nbformat_minor": 2
}
